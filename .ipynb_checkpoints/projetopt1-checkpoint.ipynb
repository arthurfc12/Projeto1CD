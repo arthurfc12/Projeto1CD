{
 "cells": [
  {
   "cell_type": "markdown",
   "metadata": {},
   "source": [
    "# Projeto 1 - Ciência dos Dados\n",
    "\n",
    "### Parte 1 - Data frame e anos de interesse\n",
    "\n",
    "Arthur Carvalho\n",
    "\n"
   ]
  },
  {
   "cell_type": "markdown",
   "metadata": {},
   "source": [
    "Pergunta: Como o setor terciário influencia o idh de um país da SADC? Países africanos que fazem parte da SADC se configuram como mais desenvolvidos (a partir do idh e do setor terciário) em relação ao resto da África? E em relação ao resto do mundo, como esse bloco econômico se equipara? "
   ]
  },
  {
   "cell_type": "markdown",
   "metadata": {},
   "source": [
    "Hipótese teórica: Países dentro do SADC terão um setor terciário maior que o resto da África e, respectivamente, terá um IDH maior. Porém, ao ser comparado ao resto do mundo, o setor terciário e o IDH ainda serão menores que a média"
   ]
  },
  {
   "cell_type": "markdown",
   "metadata": {},
   "source": [
    "### Mecanismos utilizados"
   ]
  },
  {
   "cell_type": "markdown",
   "metadata": {},
   "source": [
    "Para o desenvolvimento do projeto serão feitos gráficos e tabelas os quais mostrarão o IDH dos países em um bloco econômico, a porcentagem contribuinte do setor terciário para a economia, e análises que serão feitas a partir dos dados coletados, chegando assim em uma conclusão de acordo com a pergunta proposta"
   ]
  },
  {
   "cell_type": "markdown",
   "metadata": {},
   "source": [
    "\n",
    "\n",
    "### Links para planilhas usadas "
   ]
  },
  {
   "cell_type": "markdown",
   "metadata": {},
   "source": [
    "IDH : https://hdr.undp.org/en\n"
   ]
  },
  {
   "cell_type": "markdown",
   "metadata": {},
   "source": [
    "SPGDP : https://data.worldbank.org/indicator/NV.SRV.TETC.ZS"
   ]
  },
  {
   "cell_type": "code",
   "execution_count": 82,
   "metadata": {},
   "outputs": [],
   "source": [
    "%matplotlib inline\n",
    "import pandas as pd\n",
    "import matplotlib.pyplot as plt\n",
    "import numpy as np\n",
    "from scipy.stats import pearsonr"
   ]
  },
  {
   "cell_type": "code",
   "execution_count": 83,
   "metadata": {},
   "outputs": [],
   "source": [
    "#1 - ler os arquivos do excel\n",
    "\n",
    "IDHx1 = pd.read_excel('hdi_human_development_index.xlsx') #Lê arquivo excel relativo ao idh\n",
    "SPGDPx1 = pd.read_excel('services_percent_of_gdp.xlsx') #Lê arquivo excel relativo à porcentagem do pib em serviços"
   ]
  },
  {
   "cell_type": "code",
   "execution_count": 84,
   "metadata": {},
   "outputs": [],
   "source": [
    "#2 - formalizar o índice das planilhas\n",
    "\n",
    "IDH_idx = IDHx1.set_index('country') \n",
    "SPGDP_idx = SPGDPx1.set_index('country')\n",
    "\n",
    "#3 - declarar os anos em comum\n",
    "\n",
    "IDH = IDH_idx[[2005,2013]]\n",
    "SPGDP = SPGDP_idx[[2005,2013]]"
   ]
  },
  {
   "cell_type": "markdown",
   "metadata": {},
   "source": [
    "**Juntar anos de interesse em um Dataframe**"
   ]
  },
  {
   "cell_type": "code",
   "execution_count": 85,
   "metadata": {},
   "outputs": [],
   "source": [
    "data = SPGDP.join(IDH, how = 'inner', lsuffix = '_SPGDP', rsuffix = '_HDI')"
   ]
  },
  {
   "cell_type": "code",
   "execution_count": 86,
   "metadata": {},
   "outputs": [
    {
     "data": {
      "text/html": [
       "<div>\n",
       "<style scoped>\n",
       "    .dataframe tbody tr th:only-of-type {\n",
       "        vertical-align: middle;\n",
       "    }\n",
       "\n",
       "    .dataframe tbody tr th {\n",
       "        vertical-align: top;\n",
       "    }\n",
       "\n",
       "    .dataframe thead th {\n",
       "        text-align: right;\n",
       "    }\n",
       "</style>\n",
       "<table border=\"1\" class=\"dataframe\">\n",
       "  <thead>\n",
       "    <tr style=\"text-align: right;\">\n",
       "      <th></th>\n",
       "      <th>2005_SPGDP</th>\n",
       "      <th>2013_SPGDP</th>\n",
       "      <th>2005_HDI</th>\n",
       "      <th>2013_HDI</th>\n",
       "    </tr>\n",
       "    <tr>\n",
       "      <th>country</th>\n",
       "      <th></th>\n",
       "      <th></th>\n",
       "      <th></th>\n",
       "      <th></th>\n",
       "    </tr>\n",
       "  </thead>\n",
       "  <tbody>\n",
       "    <tr>\n",
       "      <th>Afghanistan</th>\n",
       "      <td>39.6</td>\n",
       "      <td>53.0</td>\n",
       "      <td>0.405</td>\n",
       "      <td>0.476</td>\n",
       "    </tr>\n",
       "    <tr>\n",
       "      <th>Albania</th>\n",
       "      <td>46.9</td>\n",
       "      <td>44.6</td>\n",
       "      <td>0.696</td>\n",
       "      <td>0.761</td>\n",
       "    </tr>\n",
       "    <tr>\n",
       "      <th>Algeria</th>\n",
       "      <td>NaN</td>\n",
       "      <td>NaN</td>\n",
       "      <td>0.686</td>\n",
       "      <td>0.741</td>\n",
       "    </tr>\n",
       "    <tr>\n",
       "      <th>Andorra</th>\n",
       "      <td>75.2</td>\n",
       "      <td>79.3</td>\n",
       "      <td>NaN</td>\n",
       "      <td>0.850</td>\n",
       "    </tr>\n",
       "    <tr>\n",
       "      <th>Angola</th>\n",
       "      <td>24.8</td>\n",
       "      <td>18.7</td>\n",
       "      <td>0.439</td>\n",
       "      <td>0.527</td>\n",
       "    </tr>\n",
       "  </tbody>\n",
       "</table>\n",
       "</div>"
      ],
      "text/plain": [
       "             2005_SPGDP  2013_SPGDP  2005_HDI  2013_HDI\n",
       "country                                                \n",
       "Afghanistan        39.6        53.0     0.405     0.476\n",
       "Albania            46.9        44.6     0.696     0.761\n",
       "Algeria             NaN         NaN     0.686     0.741\n",
       "Andorra            75.2        79.3       NaN     0.850\n",
       "Angola             24.8        18.7     0.439     0.527"
      ]
     },
     "execution_count": 86,
     "metadata": {},
     "output_type": "execute_result"
    }
   ],
   "source": [
    "data.head()"
   ]
  },
  {
   "cell_type": "markdown",
   "metadata": {},
   "source": [
    "## Categorizar os países em três variáveis: SADC, África ou Mundo"
   ]
  },
  {
   "cell_type": "markdown",
   "metadata": {},
   "source": [
    "Faremos isso pois, de acordo com a nossa pergunta guiadora, estamos procurando comparar os países do SADC com os outros países da África e, depois, com o resto do mundo. Isso nos dará um insight em como o bloco se comporta em relação aos países do mesmo continente, já que esses tem mais semelhanças entre si, e, após isso, perante ao resto do mundo."
   ]
  },
  {
   "cell_type": "code",
   "execution_count": 87,
   "metadata": {},
   "outputs": [
    {
     "data": {
      "text/html": [
       "<div>\n",
       "<style scoped>\n",
       "    .dataframe tbody tr th:only-of-type {\n",
       "        vertical-align: middle;\n",
       "    }\n",
       "\n",
       "    .dataframe tbody tr th {\n",
       "        vertical-align: top;\n",
       "    }\n",
       "\n",
       "    .dataframe thead th {\n",
       "        text-align: right;\n",
       "    }\n",
       "</style>\n",
       "<table border=\"1\" class=\"dataframe\">\n",
       "  <thead>\n",
       "    <tr style=\"text-align: right;\">\n",
       "      <th></th>\n",
       "      <th>2005_SPGDP</th>\n",
       "      <th>2013_SPGDP</th>\n",
       "      <th>2005_HDI</th>\n",
       "      <th>2013_HDI</th>\n",
       "      <th>Bloco</th>\n",
       "    </tr>\n",
       "    <tr>\n",
       "      <th>country</th>\n",
       "      <th></th>\n",
       "      <th></th>\n",
       "      <th></th>\n",
       "      <th></th>\n",
       "      <th></th>\n",
       "    </tr>\n",
       "  </thead>\n",
       "  <tbody>\n",
       "    <tr>\n",
       "      <th>Afghanistan</th>\n",
       "      <td>39.6</td>\n",
       "      <td>53.0</td>\n",
       "      <td>0.405</td>\n",
       "      <td>0.476</td>\n",
       "      <td>Mundo</td>\n",
       "    </tr>\n",
       "    <tr>\n",
       "      <th>Albania</th>\n",
       "      <td>46.9</td>\n",
       "      <td>44.6</td>\n",
       "      <td>0.696</td>\n",
       "      <td>0.761</td>\n",
       "      <td>Mundo</td>\n",
       "    </tr>\n",
       "    <tr>\n",
       "      <th>Algeria</th>\n",
       "      <td>NaN</td>\n",
       "      <td>NaN</td>\n",
       "      <td>0.686</td>\n",
       "      <td>0.741</td>\n",
       "      <td>África</td>\n",
       "    </tr>\n",
       "    <tr>\n",
       "      <th>Andorra</th>\n",
       "      <td>75.2</td>\n",
       "      <td>79.3</td>\n",
       "      <td>NaN</td>\n",
       "      <td>0.850</td>\n",
       "      <td>Mundo</td>\n",
       "    </tr>\n",
       "    <tr>\n",
       "      <th>Angola</th>\n",
       "      <td>24.8</td>\n",
       "      <td>18.7</td>\n",
       "      <td>0.439</td>\n",
       "      <td>0.527</td>\n",
       "      <td>SADC</td>\n",
       "    </tr>\n",
       "  </tbody>\n",
       "</table>\n",
       "</div>"
      ],
      "text/plain": [
       "             2005_SPGDP  2013_SPGDP  2005_HDI  2013_HDI   Bloco\n",
       "country                                                        \n",
       "Afghanistan        39.6        53.0     0.405     0.476   Mundo\n",
       "Albania            46.9        44.6     0.696     0.761   Mundo\n",
       "Algeria             NaN         NaN     0.686     0.741  África\n",
       "Andorra            75.2        79.3       NaN     0.850   Mundo\n",
       "Angola             24.8        18.7     0.439     0.527    SADC"
      ]
     },
     "execution_count": 87,
     "metadata": {},
     "output_type": "execute_result"
    }
   ],
   "source": [
    "data['Bloco'] = 'Mundo'\n",
    "data.loc[['Angola','Botswana','Comoros','Congo','Lesotho','Madagascar','Malawi','Mauritius','Mozambique','Namibia','Seychelles','South Africa','Swaziland','Tanzania','Zambia','Zimbabwe'], ['Bloco']] = 'SADC'\n",
    "data.loc[['Algeria','Benin','Burkina Faso','Cameroon','Cape Verde','Central African Republic','Chad','Congo Rep',\"Cote d'Ivoire\",'Equatorial Guinea','Ethiopia','Gabon','Gambia','Ghana','Guinea','Guinea-Bissau','Kenya','Liberia','Mali','Mauritania','Morocco','Niger','Nigeria','Rwanda','Sao Tome and Principe','Senegal','Sierra Leone', 'Sudan','Togo','Uganda'],['Bloco']] = 'África'\n",
    "data.head()"
   ]
  },
  {
   "cell_type": "markdown",
   "metadata": {},
   "source": [
    "# Começando a ánalise "
   ]
  },
  {
   "cell_type": "markdown",
   "metadata": {},
   "source": [
    "Iremos começar a análise "
   ]
  },
  {
   "cell_type": "code",
   "execution_count": null,
   "metadata": {},
   "outputs": [],
   "source": []
  },
  {
   "cell_type": "code",
   "execution_count": null,
   "metadata": {},
   "outputs": [],
   "source": []
  }
 ],
 "metadata": {
  "kernelspec": {
   "display_name": "Python 3",
   "language": "python",
   "name": "python3"
  },
  "language_info": {
   "codemirror_mode": {
    "name": "ipython",
    "version": 3
   },
   "file_extension": ".py",
   "mimetype": "text/x-python",
   "name": "python",
   "nbconvert_exporter": "python",
   "pygments_lexer": "ipython3",
   "version": "3.7.1"
  }
 },
 "nbformat": 4,
 "nbformat_minor": 2
}
